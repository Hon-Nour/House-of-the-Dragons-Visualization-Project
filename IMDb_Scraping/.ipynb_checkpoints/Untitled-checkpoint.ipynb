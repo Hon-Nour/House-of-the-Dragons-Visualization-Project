{
 "cells": [
  {
   "cell_type": "code",
   "execution_count": 1,
   "id": "9c888200",
   "metadata": {},
   "outputs": [],
   "source": [
    "# Import necessary libraries\n",
    "import pandas as pd\n",
    "import requests\n",
    "from bs4 import BeautifulSoup"
   ]
  },
  {
   "cell_type": "code",
   "execution_count": 7,
   "id": "4bbbbacd",
   "metadata": {},
   "outputs": [
    {
     "data": {
      "text/plain": [
       "10"
      ]
     },
     "execution_count": 7,
     "metadata": {},
     "output_type": "execute_result"
    }
   ],
   "source": [
    "# Get the data from the website\n",
    "url = \"https://www.imdb.com/title/tt11198330/episodes?ref_=tt_eps_sm\"\n",
    "response = requests.get(url)\n",
    "hotd_episode_page = BeautifulSoup(response.content)\n",
    "\n",
    "episodes = hotd_episode_page.findAll(\"div\", attrs={\"class\": \"info\"})\n",
    "\n",
    "# number_of_episodes = len(episodes)\n",
    "# number_of_episodes"
   ]
  },
  {
   "cell_type": "code",
   "execution_count": null,
   "id": "f4f50bb5",
   "metadata": {},
   "outputs": [],
   "source": []
  }
 ],
 "metadata": {
  "kernelspec": {
   "display_name": "Python 3 (ipykernel)",
   "language": "python",
   "name": "python3"
  },
  "language_info": {
   "codemirror_mode": {
    "name": "ipython",
    "version": 3
   },
   "file_extension": ".py",
   "mimetype": "text/x-python",
   "name": "python",
   "nbconvert_exporter": "python",
   "pygments_lexer": "ipython3",
   "version": "3.9.7"
  }
 },
 "nbformat": 4,
 "nbformat_minor": 5
}
